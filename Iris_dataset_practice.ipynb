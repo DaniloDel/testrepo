{
 "cells": [
  {
   "cell_type": "markdown",
   "id": "0678af05",
   "metadata": {},
   "source": [
    "<center><u><H1>Iris dataset (various models)</H1></u></center>"
   ]
  },
  {
   "cell_type": "code",
   "execution_count": 1,
   "id": "a681e6ba",
   "metadata": {},
   "outputs": [],
   "source": [
    "import numpy as np\n",
    "import pandas as pd\n",
    "import matplotlib.pyplot as plt\n",
    "from sklearn.datasets import load_iris\n",
    "from sklearn.preprocessing import StandardScaler\n",
    "from sklearn.naive_bayes import GaussianNB\n",
    "from sklearn.tree import DecisionTreeClassifier\n",
    "from sklearn.model_selection import train_test_split, cross_val_score\n",
    "from sklearn.metrics import classification_report, confusion_matrix, accuracy_score\n",
    "%matplotlib inline"
   ]
  },
  {
   "cell_type": "code",
   "execution_count": 2,
   "id": "81af7b5d",
   "metadata": {},
   "outputs": [
    {
     "data": {
      "text/html": [
       "<div>\n",
       "<style scoped>\n",
       "    .dataframe tbody tr th:only-of-type {\n",
       "        vertical-align: middle;\n",
       "    }\n",
       "\n",
       "    .dataframe tbody tr th {\n",
       "        vertical-align: top;\n",
       "    }\n",
       "\n",
       "    .dataframe thead th {\n",
       "        text-align: right;\n",
       "    }\n",
       "</style>\n",
       "<table border=\"1\" class=\"dataframe\">\n",
       "  <thead>\n",
       "    <tr style=\"text-align: right;\">\n",
       "      <th></th>\n",
       "      <th>sepal length (cm)</th>\n",
       "      <th>sepal width (cm)</th>\n",
       "      <th>petal length (cm)</th>\n",
       "      <th>petal width (cm)</th>\n",
       "      <th>target</th>\n",
       "    </tr>\n",
       "  </thead>\n",
       "  <tbody>\n",
       "    <tr>\n",
       "      <th>0</th>\n",
       "      <td>5.1</td>\n",
       "      <td>3.5</td>\n",
       "      <td>1.4</td>\n",
       "      <td>0.2</td>\n",
       "      <td>0</td>\n",
       "    </tr>\n",
       "    <tr>\n",
       "      <th>1</th>\n",
       "      <td>4.9</td>\n",
       "      <td>3.0</td>\n",
       "      <td>1.4</td>\n",
       "      <td>0.2</td>\n",
       "      <td>0</td>\n",
       "    </tr>\n",
       "    <tr>\n",
       "      <th>2</th>\n",
       "      <td>4.7</td>\n",
       "      <td>3.2</td>\n",
       "      <td>1.3</td>\n",
       "      <td>0.2</td>\n",
       "      <td>0</td>\n",
       "    </tr>\n",
       "    <tr>\n",
       "      <th>3</th>\n",
       "      <td>4.6</td>\n",
       "      <td>3.1</td>\n",
       "      <td>1.5</td>\n",
       "      <td>0.2</td>\n",
       "      <td>0</td>\n",
       "    </tr>\n",
       "    <tr>\n",
       "      <th>4</th>\n",
       "      <td>5.0</td>\n",
       "      <td>3.6</td>\n",
       "      <td>1.4</td>\n",
       "      <td>0.2</td>\n",
       "      <td>0</td>\n",
       "    </tr>\n",
       "  </tbody>\n",
       "</table>\n",
       "</div>"
      ],
      "text/plain": [
       "   sepal length (cm)  sepal width (cm)  petal length (cm)  petal width (cm)  \\\n",
       "0                5.1               3.5                1.4               0.2   \n",
       "1                4.9               3.0                1.4               0.2   \n",
       "2                4.7               3.2                1.3               0.2   \n",
       "3                4.6               3.1                1.5               0.2   \n",
       "4                5.0               3.6                1.4               0.2   \n",
       "\n",
       "   target  \n",
       "0       0  \n",
       "1       0  \n",
       "2       0  \n",
       "3       0  \n",
       "4       0  "
      ]
     },
     "execution_count": 2,
     "metadata": {},
     "output_type": "execute_result"
    }
   ],
   "source": [
    "iris_data = load_iris()\n",
    "df_iris = pd.DataFrame(iris_data.data, columns=iris_data.feature_names)\n",
    "df_iris['target'] = pd.Series(iris_data.target)\n",
    "df_iris.head()"
   ]
  },
  {
   "cell_type": "markdown",
   "id": "ea0b1265",
   "metadata": {},
   "source": [
    "# Preprocessing"
   ]
  },
  {
   "cell_type": "code",
   "execution_count": 3,
   "id": "2844e06c",
   "metadata": {},
   "outputs": [],
   "source": [
    "X = df_iris.iloc[:, 0:4]\n",
    "y = df_iris['target']"
   ]
  },
  {
   "cell_type": "code",
   "execution_count": 4,
   "id": "828eb784",
   "metadata": {},
   "outputs": [],
   "source": [
    "X_train, X_test, y_train, y_test = train_test_split(X, y, test_size=0.3, random_state=2021)"
   ]
  },
  {
   "cell_type": "code",
   "execution_count": 5,
   "id": "d0599e8f",
   "metadata": {},
   "outputs": [],
   "source": [
    "sc = StandardScaler()\n",
    "X_train_std = sc.fit_transform(X_train)\n",
    "X_test_std = sc.transform(X_test)"
   ]
  },
  {
   "cell_type": "markdown",
   "id": "f2a874f1",
   "metadata": {},
   "source": [
    "# Creating models"
   ]
  },
  {
   "cell_type": "code",
   "execution_count": 6,
   "id": "bfcbf1c6",
   "metadata": {},
   "outputs": [
    {
     "data": {
      "text/plain": [
       "DecisionTreeClassifier()"
      ]
     },
     "execution_count": 6,
     "metadata": {},
     "output_type": "execute_result"
    }
   ],
   "source": [
    "dt = DecisionTreeClassifier()\n",
    "dt.fit(X_train, y_train)"
   ]
  },
  {
   "cell_type": "code",
   "execution_count": 7,
   "id": "36ff1872",
   "metadata": {},
   "outputs": [
    {
     "data": {
      "text/plain": [
       "GaussianNB()"
      ]
     },
     "execution_count": 7,
     "metadata": {},
     "output_type": "execute_result"
    }
   ],
   "source": [
    "gnb = GaussianNB()\n",
    "gnb.fit(X_train_std, y_train)"
   ]
  },
  {
   "cell_type": "markdown",
   "id": "7445d228",
   "metadata": {},
   "source": [
    "# Predictions (DT - one sample value)"
   ]
  },
  {
   "cell_type": "code",
   "execution_count": 8,
   "id": "51292830",
   "metadata": {},
   "outputs": [
    {
     "data": {
      "text/plain": [
       "array([1])"
      ]
     },
     "execution_count": 8,
     "metadata": {},
     "output_type": "execute_result"
    }
   ],
   "source": [
    "dt.predict(X.iloc[80:81, :])"
   ]
  },
  {
   "cell_type": "code",
   "execution_count": 9,
   "id": "a6c3c75e",
   "metadata": {},
   "outputs": [
    {
     "data": {
      "text/plain": [
       "array([[0., 1., 0.]])"
      ]
     },
     "execution_count": 9,
     "metadata": {},
     "output_type": "execute_result"
    }
   ],
   "source": [
    "dt.predict_proba(X.iloc[80:81, :])"
   ]
  },
  {
   "cell_type": "markdown",
   "id": "a598733d",
   "metadata": {},
   "source": [
    "# Predictions"
   ]
  },
  {
   "cell_type": "code",
   "execution_count": 10,
   "id": "c24903cc",
   "metadata": {},
   "outputs": [],
   "source": [
    "dt_pred = dt.predict(X_test)\n",
    "gnb_pred = gnb.predict(X_test_std)"
   ]
  },
  {
   "cell_type": "markdown",
   "id": "acdde231",
   "metadata": {},
   "source": [
    "# DT - report"
   ]
  },
  {
   "cell_type": "code",
   "execution_count": 11,
   "id": "4a3a0292",
   "metadata": {},
   "outputs": [
    {
     "name": "stdout",
     "output_type": "stream",
     "text": [
      "DecisionTree CV Score:\n",
      " 0.975\n"
     ]
    }
   ],
   "source": [
    "print(\"DecisionTree CV Score:\\n\", cross_val_score(dt, X_test, y_test, cv=10).mean())"
   ]
  },
  {
   "cell_type": "code",
   "execution_count": 12,
   "id": "ff0a9670",
   "metadata": {},
   "outputs": [
    {
     "name": "stdout",
     "output_type": "stream",
     "text": [
      "DecisionTree Accuracy:\n",
      " 0.9777777777777777\n"
     ]
    }
   ],
   "source": [
    "print(\"DecisionTree Accuracy:\\n\", accuracy_score(y_test, dt_pred))"
   ]
  },
  {
   "cell_type": "code",
   "execution_count": 13,
   "id": "df57c86d",
   "metadata": {},
   "outputs": [
    {
     "name": "stdout",
     "output_type": "stream",
     "text": [
      "DecisionTree Confusion Matrix:\n",
      " [[17  0  0]\n",
      " [ 0 16  0]\n",
      " [ 0  1 11]]\n"
     ]
    }
   ],
   "source": [
    "print(\"DecisionTree Confusion Matrix:\\n\", confusion_matrix(y_test, dt_pred))"
   ]
  },
  {
   "cell_type": "code",
   "execution_count": 14,
   "id": "0cbc42a0",
   "metadata": {},
   "outputs": [
    {
     "name": "stdout",
     "output_type": "stream",
     "text": [
      "DecisionTree Classification Report:\n",
      "               precision    recall  f1-score   support\n",
      "\n",
      "           0       1.00      1.00      1.00        17\n",
      "           1       0.94      1.00      0.97        16\n",
      "           2       1.00      0.92      0.96        12\n",
      "\n",
      "    accuracy                           0.98        45\n",
      "   macro avg       0.98      0.97      0.98        45\n",
      "weighted avg       0.98      0.98      0.98        45\n",
      "\n"
     ]
    }
   ],
   "source": [
    "print(\"DecisionTree Classification Report:\\n\", classification_report(y_test, dt_pred))"
   ]
  },
  {
   "cell_type": "markdown",
   "id": "7bd2eca0",
   "metadata": {},
   "source": [
    "# GNB - report"
   ]
  },
  {
   "cell_type": "code",
   "execution_count": 15,
   "id": "b1f056c5",
   "metadata": {},
   "outputs": [
    {
     "name": "stdout",
     "output_type": "stream",
     "text": [
      "GNB CV Score:\n",
      " 0.9800000000000001\n"
     ]
    }
   ],
   "source": [
    "print(\"GNB CV Score:\\n\", cross_val_score(gnb, X_test_std, y_test, cv=10).mean())"
   ]
  },
  {
   "cell_type": "code",
   "execution_count": 16,
   "id": "9a6456bb",
   "metadata": {},
   "outputs": [
    {
     "name": "stdout",
     "output_type": "stream",
     "text": [
      "GNB Accuracy:\n",
      " 0.9555555555555556\n"
     ]
    }
   ],
   "source": [
    "print(\"GNB Accuracy:\\n\", accuracy_score(y_test, gnb_pred))"
   ]
  },
  {
   "cell_type": "code",
   "execution_count": 17,
   "id": "fad82af9",
   "metadata": {},
   "outputs": [
    {
     "name": "stdout",
     "output_type": "stream",
     "text": [
      "GNB Confusion Matrix:\n",
      " [[17  0  0]\n",
      " [ 0 16  0]\n",
      " [ 0  2 10]]\n"
     ]
    }
   ],
   "source": [
    "print(\"GNB Confusion Matrix:\\n\", confusion_matrix(y_test, gnb_pred))"
   ]
  },
  {
   "cell_type": "code",
   "execution_count": 18,
   "id": "8c796832",
   "metadata": {},
   "outputs": [
    {
     "name": "stdout",
     "output_type": "stream",
     "text": [
      "GNB Classification Report:\n",
      "               precision    recall  f1-score   support\n",
      "\n",
      "           0       1.00      1.00      1.00        17\n",
      "           1       0.89      1.00      0.94        16\n",
      "           2       1.00      0.83      0.91        12\n",
      "\n",
      "    accuracy                           0.96        45\n",
      "   macro avg       0.96      0.94      0.95        45\n",
      "weighted avg       0.96      0.96      0.95        45\n",
      "\n"
     ]
    }
   ],
   "source": [
    "print(\"GNB Classification Report:\\n\", classification_report(y_test, gnb_pred))"
   ]
  },
  {
   "cell_type": "markdown",
   "id": "4f36b465",
   "metadata": {},
   "source": [
    "# Plotting models"
   ]
  },
  {
   "cell_type": "code",
   "execution_count": 19,
   "id": "65132e24",
   "metadata": {},
   "outputs": [
    {
     "data": {
      "image/png": "[encoded data removed]",
      "text/plain": [
       "<Figure size 720x288 with 2 Axes>"
      ]
     },
     "metadata": {
      "needs_background": "light"
     },
     "output_type": "display_data"
    }
   ],
   "source": [
    "fig, axs = plt.subplots(1, 2, figsize=(10, 4))\n",
    "res = 0.02\n",
    "X2 = X.to_numpy()[:,[2,3]]\n",
    "\n",
    "x1min, x1max = X2[:,0].min() - 1, X2[:,0].max() + 1\n",
    "x2min, x2max = X2[:,1].min() - 1, X2[:,1].max() + 1\n",
    "xx1, xx2 = np.meshgrid(np.arange(x1min, x1max, res), np.arange(x2min, x2max, res))\n",
    "\n",
    "for clf, ax, title in zip([dt, gnb], axs, ['Decision Tree', 'Naive Bayes']):\n",
    "    clf.fit(X2, y)\n",
    "    output = clf.predict(np.array([xx1.ravel(), xx2.ravel()]).T)\n",
    "    output = output.reshape(xx1.shape)\n",
    "    ax.pcolormesh(xx1, xx2, output, cmap=plt.cm.Accent, shading='auto')\n",
    "    ax.scatter(X2[y==0, 0], X2[y==0, 1], s=30, color='yellow', marker='^')\n",
    "    ax.scatter(X2[y==1, 0], X2[y==1, 1], s=30, color='black', marker='o')\n",
    "    ax.scatter(X2[y==2, 0], X2[y==2, 1], s=30, color='violet', marker='x')\n",
    "    ax.set_title(title)"
   ]
  },
  {
   "cell_type": "code",
   "execution_count": null,
   "id": "dc5659db",
   "metadata": {},
   "outputs": [],
   "source": []
  }
 ],
 "metadata": {
  "kernelspec": {
   "display_name": "Python 3 (ipykernel)",
   "language": "python",
   "name": "python3"
  },
  "language_info": {
   "codemirror_mode": {
    "name": "ipython",
    "version": 3
   },
   "file_extension": ".py",
   "mimetype": "text/x-python",
   "name": "python",
   "nbconvert_exporter": "python",
   "pygments_lexer": "ipython3",
   "version": "3.8.8"
  }
 },
 "nbformat": 4,
 "nbformat_minor": 5
}
